{
 "cells": [
  {
   "cell_type": "markdown",
   "id": "88ee313d",
   "metadata": {},
   "source": [
    "\n",
    "# Storm Impact Prediction and Risk Analysis\n",
    "\n",
    "## Objective\n",
    "This project aims to analyze storm data to identify patterns, assess risk factors, and prepare the dataset for potential machine learning tasks such as storm severity classification or impact prediction.\n"
   ]
  },
  {
   "cell_type": "code",
   "execution_count": null,
   "id": "33a0aecc",
   "metadata": {},
   "outputs": [],
   "source": [
    "\n",
    "# 1. Import Necessary Libraries\n",
    "import pandas as pd\n",
    "import numpy as np\n"
   ]
  },
  {
   "cell_type": "code",
   "execution_count": null,
   "id": "8b74df84",
   "metadata": {},
   "outputs": [],
   "source": [
    "\n",
    "# 2. Load the Dataset\n",
    "df = pd.read_csv(\"storms.csv\")\n",
    "df.head()\n"
   ]
  },
  {
   "cell_type": "code",
   "execution_count": null,
   "id": "93e91001",
   "metadata": {},
   "outputs": [],
   "source": [
    "\n",
    "# 3. Explore the Dataset\n",
    "\n",
    "# Basic Information\n",
    "print(\"=== Dataset Information ===\")\n",
    "print(df.info())\n",
    "\n",
    "# Statistical Summary\n",
    "print(\"\\n=== Dataset Description ===\")\n",
    "print(df.describe())\n",
    "\n",
    "# Missing Values\n",
    "print(\"\\n=== Missing Values ===\")\n",
    "print(df.isnull().sum())\n"
   ]
  }
 ],
 "metadata": {},
 "nbformat": 4,
 "nbformat_minor": 5
}
